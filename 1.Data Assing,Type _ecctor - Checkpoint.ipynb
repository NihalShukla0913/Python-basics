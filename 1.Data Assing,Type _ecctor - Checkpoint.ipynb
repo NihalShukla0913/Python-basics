{
 "cells": [
  {
   "cell_type": "code",
   "execution_count": null,
   "id": "8b5ccf7e",
   "metadata": {},
   "outputs": [],
   "source": [
    "# Agenda\n",
    "* single and multiple line comments \n",
    "* variable assing \n",
    "* python number and to check dta type \n",
    "* to convert data type \n",
    "* string "
   ]
  },
  {
   "cell_type": "markdown",
   "id": "fd0fad42",
   "metadata": {},
   "source": [
    "# Python Comments\n"
   ]
  },
  {
   "cell_type": "code",
   "execution_count": 8,
   "id": "960c427d",
   "metadata": {},
   "outputs": [
    {
     "name": "stdout",
     "output_type": "stream",
     "text": [
      "hello,world\n"
     ]
    }
   ],
   "source": [
    "print (\"hello,world\") #see the out put "
   ]
  },
  {
   "cell_type": "code",
   "execution_count": 10,
   "id": "34c7c973",
   "metadata": {},
   "outputs": [
    {
     "name": "stdout",
     "output_type": "stream",
     "text": [
      "hello,irfan\n"
     ]
    }
   ],
   "source": [
    "# This is a comment \n",
    "# written in \n",
    "#more than just one line \n",
    "print (\"hello,irfan\") #fggggf"
   ]
  },
  {
   "cell_type": "code",
   "execution_count": 14,
   "id": "8800a538",
   "metadata": {},
   "outputs": [
    {
     "name": "stdout",
     "output_type": "stream",
     "text": [
      "hello,world!\n"
     ]
    }
   ],
   "source": [
    "\"\"\"\n",
    "\n",
    "This is comment \n",
    "written in \n",
    "more than just one line \n",
    "\"\"\"\n",
    "print(\"hello,world!\")"
   ]
  },
  {
   "cell_type": "markdown",
   "id": "4eec1a99",
   "metadata": {},
   "source": [
    "# variable assingn\n",
    "="
   ]
  },
  {
   "cell_type": "code",
   "execution_count": 2,
   "id": "3bbf3705",
   "metadata": {},
   "outputs": [
    {
     "name": "stdout",
     "output_type": "stream",
     "text": [
      "john\n"
     ]
    }
   ],
   "source": [
    "x = 5 #number \n",
    "y = 'john' #string variable can be declared either \n",
    "# by using single or double quotes:\n",
    "print(y)\n"
   ]
  },
  {
   "cell_type": "code",
   "execution_count": null,
   "id": "1242cc3f",
   "metadata": {},
   "outputs": [],
   "source": [
    "y"
   ]
  },
  {
   "cell_type": "code",
   "execution_count": 15,
   "id": "f261af6d",
   "metadata": {},
   "outputs": [
    {
     "name": "stdout",
     "output_type": "stream",
     "text": [
      "abc\n"
     ]
    }
   ],
   "source": [
    "x = 'john'\n",
    "x = 'abc' \n",
    "print(x)"
   ]
  },
  {
   "cell_type": "code",
   "execution_count": 20,
   "id": "c108675b",
   "metadata": {},
   "outputs": [],
   "source": [
    "x = 3"
   ]
  },
  {
   "cell_type": "code",
   "execution_count": 21,
   "id": "ead80259",
   "metadata": {},
   "outputs": [
    {
     "data": {
      "text/plain": [
       "3"
      ]
     },
     "execution_count": 21,
     "metadata": {},
     "output_type": "execute_result"
    }
   ],
   "source": [
    "x"
   ]
  },
  {
   "cell_type": "code",
   "execution_count": 4,
   "id": "f29016fb",
   "metadata": {},
   "outputs": [
    {
     "data": {
      "text/plain": [
       "[1, 2, 3, 4]"
      ]
     },
     "execution_count": 4,
     "metadata": {},
     "output_type": "execute_result"
    }
   ],
   "source": [
    "[1,2,3,4]"
   ]
  },
  {
   "cell_type": "code",
   "execution_count": 8,
   "id": "84a901db",
   "metadata": {},
   "outputs": [],
   "source": [
    "x = [21,22,23,34]"
   ]
  },
  {
   "cell_type": "code",
   "execution_count": 1,
   "id": "a21fc646",
   "metadata": {},
   "outputs": [
    {
     "ename": "NameError",
     "evalue": "name 'x' is not defined",
     "output_type": "error",
     "traceback": [
      "\u001b[1;31m---------------------------------------------------------------------------\u001b[0m",
      "\u001b[1;31mNameError\u001b[0m                                 Traceback (most recent call last)",
      "Input \u001b[1;32mIn [1]\u001b[0m, in \u001b[0;36m<cell line: 1>\u001b[1;34m()\u001b[0m\n\u001b[1;32m----> 1\u001b[0m \u001b[43mx\u001b[49m\n",
      "\u001b[1;31mNameError\u001b[0m: name 'x' is not defined"
     ]
    }
   ],
   "source": [
    "x"
   ]
  },
  {
   "cell_type": "code",
   "execution_count": 3,
   "id": "098a35c7",
   "metadata": {},
   "outputs": [
    {
     "name": "stdout",
     "output_type": "stream",
     "text": [
      "5\n"
     ]
    }
   ],
   "source": [
    "print(x)"
   ]
  },
  {
   "cell_type": "code",
   "execution_count": null,
   "id": "eeba16c0",
   "metadata": {},
   "outputs": [],
   "source": []
  },
  {
   "cell_type": "markdown",
   "id": "f1d21325",
   "metadata": {},
   "source": [
    "# Assign value to multiple variables\n",
    "python allows you to assign to multiple variables in one line :"
   ]
  },
  {
   "cell_type": "code",
   "execution_count": null,
   "id": "da615fcb",
   "metadata": {},
   "outputs": [],
   "source": []
  },
  {
   "cell_type": "code",
   "execution_count": 1,
   "id": "963b365a",
   "metadata": {},
   "outputs": [
    {
     "name": "stdout",
     "output_type": "stream",
     "text": [
      "orange\n",
      "banana\n",
      "cherry\n"
     ]
    }
   ],
   "source": [
    "x,y,z = 'orange','banana','cherry'\n",
    "print(x)\n",
    "print(y)\n",
    "print(z)"
   ]
  },
  {
   "cell_type": "code",
   "execution_count": 4,
   "id": "7df48fde",
   "metadata": {},
   "outputs": [
    {
     "data": {
      "text/plain": [
       "('orange', 'banana', 'cherry')"
      ]
     },
     "execution_count": 4,
     "metadata": {},
     "output_type": "execute_result"
    }
   ],
   "source": [
    "x,y,z,"
   ]
  },
  {
   "cell_type": "markdown",
   "id": "41041722",
   "metadata": {},
   "source": [
    "# python number \n",
    "\n",
    "There are three numeric types in python \n",
    "\n",
    "* int\n",
    "* float \n",
    "* complex "
   ]
  },
  {
   "cell_type": "code",
   "execution_count": 10,
   "id": "aecc7870",
   "metadata": {},
   "outputs": [],
   "source": [
    "x = 10  # int --> discrete\n",
    "y = 2.8  # float ---> continous \n",
    "z = 1j  # complex & j = imaginary \n"
   ]
  },
  {
   "cell_type": "markdown",
   "id": "46e09f87",
   "metadata": {},
   "source": [
    "# To check data type "
   ]
  },
  {
   "cell_type": "code",
   "execution_count": 11,
   "id": "533c12ef",
   "metadata": {},
   "outputs": [
    {
     "name": "stdout",
     "output_type": "stream",
     "text": [
      "<class 'int'>\n",
      "<class 'float'>\n",
      "<class 'complex'>\n"
     ]
    }
   ],
   "source": [
    "print (type(x))\n",
    "print (type(y))\n",
    "print(type(z))"
   ]
  },
  {
   "cell_type": "markdown",
   "id": "1c4ca71a",
   "metadata": {},
   "source": [
    "# Int \n",
    "int, or integer , is a whole number , positive or negative , without decimals , of unlimated length "
   ]
  },
  {
   "cell_type": "markdown",
   "id": "a6a64bd8",
   "metadata": {},
   "source": [
    " x = 1 \n",
    "y = 3565222554887711 \n",
    "z == -32 \n",
    "\n",
    "print (type(x))\n",
    "print((y))\n",
    "print(type(z))"
   ]
  },
  {
   "cell_type": "markdown",
   "id": "ee05067a",
   "metadata": {},
   "source": [
    "# Float \n",
    "\n",
    "Float, or \"flaotung point number\" is a number, positve or negative , containing one or more decimals ."
   ]
  },
  {
   "cell_type": "code",
   "execution_count": 12,
   "id": "f1cafbd7",
   "metadata": {},
   "outputs": [
    {
     "name": "stdout",
     "output_type": "stream",
     "text": [
      "<class 'float'>\n",
      "<class 'float'>\n",
      "<class 'float'>\n"
     ]
    }
   ],
   "source": [
    "x = 1\n",
    "y = 1.0 \n",
    "z = -35.59 \n",
    "\n",
    "print(type(z))\n",
    "print(type(y))\n",
    "print(type(z))"
   ]
  },
  {
   "cell_type": "markdown",
   "id": "b42f5122",
   "metadata": {},
   "source": [
    "# Float can also be scintific numbers "
   ]
  },
  {
   "cell_type": "code",
   "execution_count": 13,
   "id": "dce6ee43",
   "metadata": {},
   "outputs": [
    {
     "name": "stdout",
     "output_type": "stream",
     "text": [
      "350.0\n",
      "1.0\n",
      "120000.0\n",
      "<class 'float'>\n",
      "<class 'float'>\n",
      "<class 'float'>\n"
     ]
    }
   ],
   "source": [
    "x = 35e1\n",
    "z = 35e-1 \n",
    "z = 12e4 \n",
    "\n",
    "\n",
    "print(x)\n",
    "print(y)\n",
    "print(z)\n",
    "\n",
    "print(type(x))\n",
    "print(type(y))\n",
    "print(type(z))"
   ]
  },
  {
   "cell_type": "markdown",
   "id": "0444dfe6",
   "metadata": {},
   "source": [
    "# complex \n",
    "\n",
    "complex numbers are written with a 'j' as the imaginary part "
   ]
  },
  {
   "cell_type": "code",
   "execution_count": 3,
   "id": "9882a167",
   "metadata": {},
   "outputs": [],
   "source": [
    "x = 3+5j\n",
    "y = 5j"
   ]
  },
  {
   "cell_type": "code",
   "execution_count": null,
   "id": "2f69e38a",
   "metadata": {},
   "outputs": [],
   "source": []
  },
  {
   "cell_type": "code",
   "execution_count": null,
   "id": "bd6e0c4c",
   "metadata": {},
   "outputs": [],
   "source": []
  },
  {
   "cell_type": "markdown",
   "id": "bc95f665",
   "metadata": {},
   "source": [
    "# Type conversion \n",
    "\n",
    "you can convert from one type to another with the int(),float(), and complex() methods "
   ]
  },
  {
   "cell_type": "code",
   "execution_count": 16,
   "id": "819f3589",
   "metadata": {},
   "outputs": [
    {
     "name": "stdout",
     "output_type": "stream",
     "text": [
      "<class 'int'>\n",
      "<class 'float'>\n",
      "1.0\n"
     ]
    }
   ],
   "source": [
    "x = 1\n",
    "print (type(x))\n",
    "a = float (x)\n",
    "print(type(a))\n",
    "print(a)\n"
   ]
  },
  {
   "cell_type": "code",
   "execution_count": 17,
   "id": "0ddda4a1",
   "metadata": {},
   "outputs": [
    {
     "name": "stdout",
     "output_type": "stream",
     "text": [
      "<class 'float'>\n",
      "<class 'int'>\n",
      "10\n"
     ]
    }
   ],
   "source": [
    "x = 10.3 # flaot \n",
    "print(type(x))\n",
    "a = int(x)\n",
    "print(type(a))\n",
    "print(a)"
   ]
  },
  {
   "cell_type": "markdown",
   "id": "c3ae7314",
   "metadata": {},
   "source": []
  },
  {
   "cell_type": "code",
   "execution_count": null,
   "id": "e23357ad",
   "metadata": {},
   "outputs": [],
   "source": []
  },
  {
   "cell_type": "code",
   "execution_count": 18,
   "id": "a618dcc6",
   "metadata": {},
   "outputs": [
    {
     "data": {
      "text/plain": [
       "'hello'"
      ]
     },
     "execution_count": 18,
     "metadata": {},
     "output_type": "execute_result"
    }
   ],
   "source": [
    "a = \"hello\"\n",
    "a "
   ]
  },
  {
   "cell_type": "markdown",
   "id": "82b618cf",
   "metadata": {},
   "source": [
    "* string are arrays \n",
    "* get the character at position 1 (remember that the first character )"
   ]
  },
  {
   "cell_type": "code",
   "execution_count": null,
   "id": "1d73d526",
   "metadata": {},
   "outputs": [],
   "source": []
  },
  {
   "cell_type": "code",
   "execution_count": 27,
   "id": "8d3878c5",
   "metadata": {},
   "outputs": [
    {
     "name": "stdout",
     "output_type": "stream",
     "text": [
      ",\n",
      "5\n"
     ]
    }
   ],
   "source": [
    "# 01234567 \n",
    "a = \"hello,worlds!\"\n",
    "print(a[5])\n",
    "print(5)"
   ]
  },
  {
   "cell_type": "code",
   "execution_count": 20,
   "id": "309d682c",
   "metadata": {},
   "outputs": [
    {
     "name": "stdout",
     "output_type": "stream",
     "text": [
      "hell\n"
     ]
    }
   ],
   "source": [
    "b = 'hello'\n",
    "print(b[0:4])  # it stop brfore the last value of "
   ]
  },
  {
   "cell_type": "markdown",
   "id": "f402fb5c",
   "metadata": {},
   "source": [
    "* the len()method returns the lengt of a string "
   ]
  },
  {
   "cell_type": "code",
   "execution_count": 21,
   "id": "a527e4f3",
   "metadata": {},
   "outputs": [
    {
     "data": {
      "text/plain": [
       "6"
      ]
     },
     "execution_count": 21,
     "metadata": {},
     "output_type": "execute_result"
    }
   ],
   "source": [
    "a = \"irfan \"\n",
    "len(a)"
   ]
  },
  {
   "cell_type": "markdown",
   "id": "d4ae1576",
   "metadata": {},
   "source": [
    "* The lower () method returns the string in lower case :"
   ]
  },
  {
   "cell_type": "code",
   "execution_count": 1,
   "id": "05e9368e",
   "metadata": {},
   "outputs": [
    {
     "name": "stdout",
     "output_type": "stream",
     "text": [
      "hello,world\n"
     ]
    }
   ],
   "source": [
    "a= \"Hello,world\" #data\n",
    "print (a.lower())"
   ]
  },
  {
   "cell_type": "code",
   "execution_count": 26,
   "id": "1c55848a",
   "metadata": {},
   "outputs": [
    {
     "name": "stdout",
     "output_type": "stream",
     "text": [
      "HELLO,WORLD\n"
     ]
    }
   ],
   "source": [
    " a= \"hello,world\" # data \n",
    " print (a.upper())   \n"
   ]
  },
  {
   "cell_type": "markdown",
   "id": "ab54f5dc",
   "metadata": {},
   "source": [
    "* The replace() method replaces a string with a another string :"
   ]
  },
  {
   "cell_type": "code",
   "execution_count": 23,
   "id": "9d949591",
   "metadata": {},
   "outputs": [
    {
     "name": "stdout",
     "output_type": "stream",
     "text": [
      "jello,world!\n"
     ]
    }
   ],
   "source": [
    "a = \"hello,world!\"\n",
    "print (a.replace(\"h\",\"j\"))"
   ]
  },
  {
   "cell_type": "code",
   "execution_count": 4,
   "id": "e604f5e9",
   "metadata": {},
   "outputs": [
    {
     "name": "stdout",
     "output_type": "stream",
     "text": [
      "jello,world\n"
     ]
    }
   ],
   "source": [
    "a = \"hello,world\"\n",
    "print  (a.replace( \"h\",\"j\"))"
   ]
  },
  {
   "cell_type": "markdown",
   "id": "aa06b029",
   "metadata": {},
   "source": [
    "command-line string input"
   ]
  },
  {
   "cell_type": "code",
   "execution_count": 24,
   "id": "2151a0e2",
   "metadata": {},
   "outputs": [
    {
     "ename": "SyntaxError",
     "evalue": "invalid syntax (427469626.py, line 1)",
     "output_type": "error",
     "traceback": [
      "\u001b[1;36m  Input \u001b[1;32mIn [24]\u001b[1;36m\u001b[0m\n\u001b[1;33m    x = input()x<=y\u001b[0m\n\u001b[1;37m               ^\u001b[0m\n\u001b[1;31mSyntaxError\u001b[0m\u001b[1;31m:\u001b[0m invalid syntax\n"
     ]
    }
   ],
   "source": [
    "x = input()x<=y\n",
    "print(\"hello\",x)"
   ]
  }
 ],
 "metadata": {
  "kernelspec": {
   "display_name": "Python 3 (ipykernel)",
   "language": "python",
   "name": "python3"
  },
  "language_info": {
   "codemirror_mode": {
    "name": "ipython",
    "version": 3
   },
   "file_extension": ".py",
   "mimetype": "text/x-python",
   "name": "python",
   "nbconvert_exporter": "python",
   "pygments_lexer": "ipython3",
   "version": "3.9.12"
  }
 },
 "nbformat": 4,
 "nbformat_minor": 5
}
